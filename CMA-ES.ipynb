{
 "cells": [
  {
   "cell_type": "markdown",
   "id": "dad5ec3e-5cb3-4813-befb-30c75b38b354",
   "metadata": {},
   "source": [
    "# Required Libraries"
   ]
  },
  {
   "cell_type": "code",
   "execution_count": 4,
   "id": "85397b8b-4606-427e-9764-7de0b290591c",
   "metadata": {},
   "outputs": [],
   "source": [
    "import numpy as np\n",
    "import pandas as pd\n",
    "import matplotlib.pyplot as plt\n",
    "import cma\n",
    "from scipy.optimize import differential_evolution\n",
    "from deap import base, creator, tools, algorithms\n",
    "import random\n",
    "from scipy.optimize import dual_annealing\n",
    "import pyswarms as ps\n",
    "from openpyxl import load_workbook\n"
   ]
  },
  {
   "cell_type": "markdown",
   "id": "9454b0ba-ad75-4b50-99f0-2de74ec8f82b",
   "metadata": {},
   "source": [
    "# Required Functions "
   ]
  },
  {
   "cell_type": "code",
   "execution_count": 6,
   "id": "2c4328f9-dfa1-49a2-98e7-5c37ab8c486d",
   "metadata": {},
   "outputs": [],
   "source": [
    "%run Optimization_RTK_Functions.ipynb"
   ]
  },
  {
   "cell_type": "markdown",
   "id": "e43972e8-deae-434e-aa72-eb1b8bd32a42",
   "metadata": {},
   "source": [
    "# Input"
   ]
  },
  {
   "cell_type": "code",
   "execution_count": 9,
   "id": "b7928a22-edc2-4fa6-8e2e-d8dbedeb9c21",
   "metadata": {},
   "outputs": [],
   "source": [
    "file_path = './CCW_event_9.xlsx'\n",
    "data=pd.read_excel(file_path, skiprows=0)\n",
    "rainfall= data.iloc[:,2].dropna().tolist() \n",
    "obs_rdii = data.iloc[:,1].tolist() \n",
    "delta_t = 600 #in sec ( for 10 min time step)\n",
    "area_acres= 491.153 #23533.04 \n",
    "total_rdii_period= (len(obs_rdii)-len(rainfall)) * delta_t  #seconds"
   ]
  },
  {
   "cell_type": "markdown",
   "id": "9d18781e-720f-4075-abd4-c15241149c48",
   "metadata": {},
   "source": [
    "### T and K Range "
   ]
  },
  {
   "cell_type": "code",
   "execution_count": 13,
   "id": "70e65b81-387f-45b3-9c2f-2c06d1e356f6",
   "metadata": {},
   "outputs": [],
   "source": [
    "# Allowed values for T (in seconds, 10-minute steps)\n",
    "allowed_T1_values = [x * 60 for x in range(10, 121, 10)]  # 10 min to 2 hrs\n",
    "allowed_T2_values = [x * 60 for x in range(20, 241, 10)]  # 20 min to 4 hrs\n",
    "allowed_T3_values = [x * 60 for x in range(30, 421, 10)]  # 30 min to 7 hrs\n",
    "\n",
    "# Allowed values for K (0.001 steps)\n",
    "allowed_K1_values = [round(x, 3) for x in np.arange(1, 2.01, 0.001)]  # 1to 2\n",
    "allowed_K2_values = [round(x, 3) for x in np.arange(2, 3.01, 0.001)]  # 2 to 3\n",
    "allowed_K3_values = [round(x, 3) for x in np.arange(3.0, 7.01, 0.001)]  # 3 to 7\n"
   ]
  },
  {
   "cell_type": "markdown",
   "id": "ccd12205-5d71-4b74-8451-b264b4c7b0b8",
   "metadata": {},
   "source": [
    "# CMA-ES Optimization "
   ]
  },
  {
   "cell_type": "markdown",
   "id": "1f094cdb-1a97-42ae-aa24-f48a720214c2",
   "metadata": {},
   "source": [
    "### Objective Function defination "
   ]
  },
  {
   "cell_type": "code",
   "execution_count": 16,
   "id": "73be1529-3249-4028-8f16-39425c2ec044",
   "metadata": {},
   "outputs": [],
   "source": [
    "def map_index_to_value(index, allowed_values):\n",
    "    \"\"\"Map a continuous index to the closest value in the allowed set.\"\"\"\n",
    "    index = int(round(index))  # Ensure it's an integer\n",
    "    index = max(0, min(index, len(allowed_values) - 1))  # Clip to valid range\n",
    "    return allowed_values[index]\n",
    "\n",
    "def objective_function(params_flat, obs_rdii):\n",
    "    \"\"\"\n",
    "    Objective function for optimization, calculates fitness and applies penalties.\n",
    "\n",
    "    Args:\n",
    "        params_flat (list): Flattened list of parameters (R, T, K indices).\n",
    "        obs_rdii (array-like): Observed RDII values.\n",
    "\n",
    "    Returns:\n",
    "        float: Objective function value (fitness + penalties).\n",
    "    \"\"\"\n",
    "    try:\n",
    "        # Check for NaN or Inf in input\n",
    "        if np.any(np.isnan(params_flat)) or np.any(np.isinf(params_flat)):\n",
    "            print(\"Invalid CMA sample:\", params_flat)\n",
    "            return float('inf')\n",
    "\n",
    "        # Unpack parameters\n",
    "        R1, T1_idx, K1_idx, R2, T2_idx, K2_idx, R3, T3_idx, K3_idx = params_flat\n",
    "\n",
    "        if R1 < 0 or R2 < 0 or R3 < 0:\n",
    "            return float('inf')\n",
    "\n",
    "        # Map discrete index to values\n",
    "        T1 = map_index_to_value(T1_idx, allowed_T1_values)\n",
    "        T2 = map_index_to_value(T2_idx, allowed_T2_values)\n",
    "        T3 = map_index_to_value(T3_idx, allowed_T3_values)\n",
    "\n",
    "        K1 = map_index_to_value(K1_idx, allowed_K1_values)\n",
    "        K2 = map_index_to_value(K2_idx, allowed_K2_values)\n",
    "        K3 = map_index_to_value(K3_idx, allowed_K3_values)\n",
    "\n",
    "        # Check for hydrograph duration overflow (memory protection)\n",
    "        max_duration = max(T1 + T1 * K1, T2 + T2 * K2, T3 + T3 * K3)\n",
    "        if max_duration > total_rdii_period * 2:\n",
    "            print(\"Hydrograph duration too large, skipping...\")\n",
    "            return float('inf')\n",
    "\n",
    "        # Prepare parameter sets\n",
    "        params = [(R1, T1, K1), (R2, T2, K2), (R3, T3, K3)]\n",
    "\n",
    "        # Safe RDII calculation\n",
    "        try:\n",
    "            sim_rdii = RDII_calculation(params, delta_t, rainfall, area_acres)\n",
    "            if sim_rdii is None or len(sim_rdii) == 0:\n",
    "                print(\"Empty sim_rdii.\")\n",
    "                return float('inf')\n",
    "            sim_rdii = np.array(sim_rdii)\n",
    "            if np.any(np.isnan(sim_rdii)) or np.any(np.isinf(sim_rdii)):\n",
    "                print(\"Invalid sim_rdii values.\")\n",
    "                return float('inf')\n",
    "        except Exception as e:\n",
    "            print(\"RDII calculation failed:\", e)\n",
    "            return float('inf')\n",
    "\n",
    "        # Pad time series for equal length\n",
    "        max_length = max(len(obs_rdii), len(sim_rdii))\n",
    "        obs_rdii_padded = np.pad(obs_rdii, (0, max_length - len(obs_rdii)), mode='constant')\n",
    "        sim_rdii_padded = np.pad(sim_rdii, (0, max_length - len(sim_rdii)), mode='constant')\n",
    "\n",
    "        # Compute fitness\n",
    "        fitness_value = fitness(\n",
    "            obs_rdii_padded,\n",
    "            sim_rdii_padded,\n",
    "            delta_t,\n",
    "            weight_rmse=0.25,\n",
    "            weight_r2=0.25,\n",
    "            weight_pbias=0.25,\n",
    "            weight_nse=0.25\n",
    "        )\n",
    "\n",
    "        # Penalty calculations\n",
    "        Ro = R_calc(rainfall, obs_rdii, delta_t, area_acres)\n",
    "        r_sum = R1 + R2 + R3\n",
    "\n",
    "        if np.isnan(Ro) or np.isinf(Ro) or np.isnan(r_sum) or np.isinf(r_sum):\n",
    "            print(\"Invalid Ro or R_sum.\")\n",
    "            return float('inf')\n",
    "\n",
    "        penalty = 0\n",
    "\n",
    "        # Equality constraint penalty (soft)\n",
    "        penalty += 1e6 * (r_sum - Ro) ** 2\n",
    "\n",
    "        # T1 < T2 < T3\n",
    "        if not (T1 < T2 < T3):\n",
    "            penalty += 1000\n",
    "\n",
    "        # Ensure rising/receding limbs obey ordering\n",
    "        if not (T1 + T1 * K1 < T2 + T2 * K2 < T3 + T3 * K3 <= total_rdii_period):\n",
    "            penalty += 1000\n",
    "\n",
    "        # Uncomment to debug:\n",
    "        # print(f\"R_sum={r_sum:.6f}, Ro={Ro:.6f}, Penalty={penalty:.1f}, Fitness={fitness_value:.4f}\")\n",
    "\n",
    "        return fitness_value + penalty\n",
    "\n",
    "    except Exception as e:\n",
    "        print(\"Exception in objective_function:\", e)\n",
    "        return float('inf')\n"
   ]
  },
  {
   "cell_type": "code",
   "execution_count": 18,
   "id": "f3fbfc7c-151a-48ca-bd50-2729b739329d",
   "metadata": {},
   "outputs": [],
   "source": [
    "# Initial guess for [R1, T1_idx, K1_idx, R2, T2_idx, K2_idx, R3, T3_idx, K3_idx]\n",
    "initial_guess = [\n",
    "    0.06, 2.0, 0.0,  # R1, T1_idx, K1_idx\n",
    "    0.06, 4.0, 0.0,  # R2, T2_idx, K2_idx\n",
    "    0.06, 3.0, 0.0   # R3, T3_idx, K3_idx\n",
    "]\n",
    "\n",
    "# Define standard deviations for each parameter\n",
    "# R: Small values, T_idx: Larger range, K_idx: Medium range\n",
    "stds = [0.001, 0.25, 5.0,  # For R1, T1_idx, K1_idx\n",
    "        0.001, 0.25, 4.0,  # For R2, T2_idx, K2_idx\n",
    "        0.001, 0.25, 5.0]  # For R3, T3_idx, K3_idx\n",
    "\n",
    "# Sigma for parameters (adjusted for scaled indices)\n",
    "sigma = 0.1\n",
    "\n",
    "# Define bounds for R (continuous), T_idx, and K_idx\n",
    "bounds_lower = [0.0, 0.0, 0.0, 0.0, 0.0, 0.0, 0.0, 0.0, 0.0]\n",
    "bounds_upper = [1.0, len(allowed_T1_values) - 1, len(allowed_K1_values) - 1,\n",
    "                1.0, len(allowed_T2_values) - 1, len(allowed_K2_values) - 1,\n",
    "                1.0, len(allowed_T3_values) - 1, len(allowed_K3_values) - 1]"
   ]
  },
  {
   "cell_type": "markdown",
   "id": "307a259a-4899-45ce-9972-752308dc5516",
   "metadata": {},
   "source": [
    "### Multilpe Run CMA-ES"
   ]
  },
  {
   "cell_type": "code",
   "execution_count": null,
   "id": "170c1c5d-ab27-4760-b26f-9954a920b36a",
   "metadata": {},
   "outputs": [],
   "source": [
    "# Store results\n",
    "all_results = []\n",
    "all_fitness_scores = []\n",
    "\n",
    "n_runs = 20  # Number of runs\n",
    "\n",
    "for i in range(n_runs):\n",
    "    print(f\"Running CMA-ES iteration {i+1}/{n_runs}...\")\n",
    "\n",
    "    try:\n",
    "        # Initialize CMA-ES\n",
    "        es = cma.CMAEvolutionStrategy(\n",
    "            initial_guess,\n",
    "            sigma,\n",
    "            {\n",
    "                'CMA_stds': stds,\n",
    "                'bounds': [bounds_lower, bounds_upper],\n",
    "                'popsize': 10,\n",
    "                'maxiter': 300,\n",
    "                'CMA_diagonal': True,\n",
    "                'seed': i\n",
    "            }\n",
    "        )\n",
    "\n",
    "        # Optimize\n",
    "        es.optimize(objective_function, args=(obs_rdii,))\n",
    "\n",
    "        # Extract best result\n",
    "        best_parameters = es.result.xbest\n",
    "        best_fitness = es.result.fbest\n",
    "\n",
    "        # Unpack and map\n",
    "        R1, T1_idx, K1_idx, R2, T2_idx, K2_idx, R3, T3_idx, K3_idx = best_parameters\n",
    "        T1 = map_index_to_value(T1_idx, allowed_T1_values)\n",
    "        T2 = map_index_to_value(T2_idx, allowed_T2_values)\n",
    "        T3 = map_index_to_value(T3_idx, allowed_T3_values)\n",
    "        K1 = map_index_to_value(K1_idx, allowed_K1_values)\n",
    "        K2 = map_index_to_value(K2_idx, allowed_K2_values)\n",
    "        K3 = map_index_to_value(K3_idx, allowed_K3_values)\n",
    "\n",
    "        best_params_actual = [(R1, T1, K1), (R2, T2, K2), (R3, T3, K3)]\n",
    "\n",
    "        # Store results\n",
    "        all_results.append(best_params_actual)\n",
    "        all_fitness_scores.append(best_fitness)\n",
    "\n",
    "    except Exception as e:\n",
    "        print(f\"Run {i+1} failed: {e}\")\n",
    "        continue\n",
    "\n",
    "print(\"✅ Completed all CMA-ES runs.\")\n"
   ]
  },
  {
   "cell_type": "code",
   "execution_count": null,
   "id": "3faf2e04-1956-42a3-a82f-37229053213e",
   "metadata": {},
   "outputs": [],
   "source": [
    "all_params = all_results \n",
    "\n",
    "# Combine results into a DataFrame\n",
    "columns = ['Run', 'R1', 'T1', 'K1', 'R2', 'T2', 'K2', 'R3', 'T3', 'K3', 'Fitness']\n",
    "results_data = []\n",
    "\n",
    "for run, (params, fitness) in enumerate(zip(all_results, all_fitness_scores), start=1):\n",
    "    results_data.append([\n",
    "        run,\n",
    "        params[0][0], params[0][1], params[0][2],  # R1, T1, K1\n",
    "        params[1][0], params[1][1], params[1][2],  # R2, T2, K2\n",
    "        params[2][0], params[2][1], params[2][2],  # R3, T3, K3\n",
    "        fitness  # Fitness score for the run\n",
    "    ])\n",
    "\n",
    "results_df = pd.DataFrame(results_data, columns=columns)\n",
    "\n",
    "# # Save results to an Excel file\n",
    "# filename = \"cma_es_results_event5.xlsx\"\n",
    "# results_df.to_excel(filename, index=False)\n",
    "# print(f\"\\nResults saved to {filename}\")\n",
    "\n",
    "# Display mean and standard deviation of parameters and fitness scores\n",
    "mean_values = results_df.mean()\n",
    "std_values = results_df.std()\n",
    "\n",
    "print(\"\\nMean values of parameters and fitness across runs:\")\n",
    "print(mean_values)\n",
    "\n",
    "print(\"\\nStandard deviation of parameters and fitness across runs:\")\n",
    "print(std_values)"
   ]
  },
  {
   "cell_type": "markdown",
   "id": "954909f1-2418-4727-b2f4-f6ab0e101209",
   "metadata": {},
   "source": [
    "### Saving RTK parameters"
   ]
  },
  {
   "cell_type": "code",
   "execution_count": null,
   "id": "15b58c5a-7074-49ac-8e62-0c1155feb839",
   "metadata": {},
   "outputs": [],
   "source": [
    "# Define the Excel file name\n",
    "excel_filename = \"RTK_Parameters_all_algorithms_Ro_constraint_E9_CCW.xlsx\"\n",
    "sheet_name = \"CMA_ES\"\n",
    "\n",
    "# Check if \"Run\" column exists, and add it only if not present\n",
    "if \"Run\" not in results_df.columns:\n",
    "    results_df.insert(0, \"Run\", range(1, len(results_df) + 1))\n",
    "\n",
    "# Select the desired columns\n",
    "export_columns = [\"Run\", \"R1\", \"T1\", \"K1\", \"R2\", \"T2\", \"K2\", \"R3\", \"T3\", \"K3\"]\n",
    "\n",
    "# Check if the Excel file exists\n",
    "try:\n",
    "    with pd.ExcelWriter(excel_filename, engine=\"openpyxl\", mode=\"a\") as writer:\n",
    "        results_df[export_columns].to_excel(writer, sheet_name=sheet_name, index=False)\n",
    "except FileNotFoundError:\n",
    "    # If the file does not exist, create a new one\n",
    "    with pd.ExcelWriter(excel_filename, engine=\"openpyxl\", mode=\"w\") as writer:\n",
    "        results_df[export_columns].to_excel(writer, sheet_name=sheet_name, index=False)\n",
    "\n",
    "print(f\"Results successfully saved to {excel_filename} in sheet {sheet_name}.\")"
   ]
  },
  {
   "cell_type": "code",
   "execution_count": null,
   "id": "158756b4-a083-4a3a-b634-8cde43abfaf8",
   "metadata": {},
   "outputs": [],
   "source": [
    "RDII_combined_plot(all_params, delta_t, rainfall, area_acres, obs_rdii)"
   ]
  },
  {
   "cell_type": "markdown",
   "id": "5f7ce6cf-cef4-4ba9-bc03-af541e7b9815",
   "metadata": {},
   "source": [
    "### Saving Metrices "
   ]
  },
  {
   "cell_type": "code",
   "execution_count": null,
   "id": "b91fb18f-efb8-4cc7-bde9-d0aa02e9c263",
   "metadata": {},
   "outputs": [],
   "source": [
    "criteria= calculate_criteria_multiple_runs(all_params, obs_rdii, delta_t, rainfall, area_acres)"
   ]
  },
  {
   "cell_type": "code",
   "execution_count": null,
   "id": "e7a04214-6007-44e9-8e3a-6af6613b0f75",
   "metadata": {},
   "outputs": [],
   "source": [
    "# Define the Excel file and sheet name\n",
    "excel_filename = \"Metrices_all_algorithms_Ro_E9_CCW.xlsx\"\n",
    "criteria_sheet_name = \"CMA-ES\"\n",
    "\n",
    "# Select only the first 20 rows\n",
    "criteria_df = criteria.iloc[:20].copy()\n",
    "\n",
    "# Ensure \"Run\" column is present in criteria_df\n",
    "if \"Run\" not in criteria_df.columns:\n",
    "    criteria_df.insert(0, \"Run\", range(1, len(criteria_df) + 1))\n",
    "\n",
    "# Add the \"Fitness\" column from results_df (first 20 rows)\n",
    "criteria_df[\"Fitness\"] = results_df.loc[:19, \"Fitness\"].values\n",
    "\n",
    "# Select the required columns\n",
    "export_columns_criteria = [\"Run\", \"RMSE\", \"R2\", \"PBIAS\", \"NSE\", \"Fitness\"]\n",
    "\n",
    "# Check if the Excel file exists and append or create a new file\n",
    "try:\n",
    "    with pd.ExcelWriter(excel_filename, engine=\"openpyxl\", mode=\"a\") as writer:\n",
    "        criteria_df[export_columns_criteria].to_excel(writer, sheet_name=criteria_sheet_name, index=False)\n",
    "except FileNotFoundError:\n",
    "    with pd.ExcelWriter(excel_filename, engine=\"openpyxl\", mode=\"w\") as writer:\n",
    "        criteria_df[export_columns_criteria].to_excel(writer, sheet_name=criteria_sheet_name, index=False)\n",
    "\n",
    "print(f\"Criteria successfully saved to {excel_filename} in sheet {criteria_sheet_name}.\")"
   ]
  },
  {
   "cell_type": "code",
   "execution_count": null,
   "id": "0fe229af-1796-4ae0-9374-6723225fb584",
   "metadata": {},
   "outputs": [],
   "source": []
  }
 ],
 "metadata": {
  "kernelspec": {
   "display_name": "Python 3 (ipykernel)",
   "language": "python",
   "name": "python3"
  },
  "language_info": {
   "codemirror_mode": {
    "name": "ipython",
    "version": 3
   },
   "file_extension": ".py",
   "mimetype": "text/x-python",
   "name": "python",
   "nbconvert_exporter": "python",
   "pygments_lexer": "ipython3",
   "version": "3.12.4"
  }
 },
 "nbformat": 4,
 "nbformat_minor": 5
}
