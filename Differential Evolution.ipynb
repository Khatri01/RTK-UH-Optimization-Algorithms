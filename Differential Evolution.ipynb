{
 "cells": [
  {
   "cell_type": "markdown",
   "id": "dad5ec3e-5cb3-4813-befb-30c75b38b354",
   "metadata": {},
   "source": [
    "# Required Libraries"
   ]
  },
  {
   "cell_type": "code",
   "execution_count": 4,
   "id": "85397b8b-4606-427e-9764-7de0b290591c",
   "metadata": {},
   "outputs": [],
   "source": [
    "import numpy as np\n",
    "import pandas as pd\n",
    "import matplotlib.pyplot as plt\n",
    "from scipy.optimize import differential_evolution\n",
    "import random\n",
    "from openpyxl import load_workbook\n"
   ]
  },
  {
   "cell_type": "markdown",
   "id": "9454b0ba-ad75-4b50-99f0-2de74ec8f82b",
   "metadata": {},
   "source": [
    "# Required Functions "
   ]
  },
  {
   "cell_type": "code",
   "execution_count": 6,
   "id": "2c4328f9-dfa1-49a2-98e7-5c37ab8c486d",
   "metadata": {},
   "outputs": [],
   "source": [
    "%run Optimization_RTK_Functions.ipynb"
   ]
  },
  {
   "cell_type": "markdown",
   "id": "e43972e8-deae-434e-aa72-eb1b8bd32a42",
   "metadata": {},
   "source": [
    "# Input"
   ]
  },
  {
   "cell_type": "code",
   "execution_count": null,
   "id": "1d01c329-e7de-4236-9400-46d20261a909",
   "metadata": {},
   "outputs": [],
   "source": [
    "file_path = './CCW_event_9.xlsx'                # Sets the file path for the Excel data file.\n",
    "data = pd.read_excel(file_path, skiprows=0)     # Reads the data from the Excel file into a DataFrame.\n",
    "\n",
    "rainfall = data.iloc[:,2].dropna().tolist()     # Gets data from the 3rd column (index 2) for rainfall, drops empty rows, and converts to a list.\n",
    "obs_rdii = data.iloc[:,1].tolist()              # Gets data from the 2nd column (index 1) for observed RDII flow and converts to a list.\n",
    "\n",
    "delta_t = 600                                   # Sets the time step duration to 600 seconds (which is a 10-minute interval).\n",
    "area_acres = 491.153                            # Defines the catchment area in acres.\n",
    "\n",
    "total_rdii_period = (len(obs_rdii) - len(rainfall)) * delta_t # Calculates the decay period after rainfall stops."
   ]
  },
  {
   "cell_type": "markdown",
   "id": "9d18781e-720f-4075-abd4-c15241149c48",
   "metadata": {},
   "source": [
    "### T and K Range "
   ]
  },
  {
   "cell_type": "code",
   "execution_count": 13,
   "id": "70e65b81-387f-45b3-9c2f-2c06d1e356f6",
   "metadata": {},
   "outputs": [],
   "source": [
    "# Allowed values for T (in seconds, 10-minute steps)\n",
    "allowed_T1_values = [x * 60 for x in range(10, 121, 10)]  # 10 min to 2 hrs\n",
    "allowed_T2_values = [x * 60 for x in range(20, 241, 10)]  # 20 min to 4 hrs\n",
    "allowed_T3_values = [x * 60 for x in range(30, 421, 10)]  # 30 min to 7 hrs\n",
    "\n",
    "# Allowed values for K (0.001 steps)\n",
    "allowed_K1_values = [round(x, 3) for x in np.arange(1, 2.01, 0.001)]  # 1to 2\n",
    "allowed_K2_values = [round(x, 3) for x in np.arange(2, 3.01, 0.001)]  # 2 to 3\n",
    "allowed_K3_values = [round(x, 3) for x in np.arange(3.0, 7.01, 0.001)]  # 3 to 7\n"
   ]
  },
  {
   "cell_type": "markdown",
   "id": "88d3c685-e380-4b1f-8948-5af9917fe76c",
   "metadata": {},
   "source": [
    "# Differential Evolution Optimization"
   ]
  },
  {
   "cell_type": "markdown",
   "id": "e944c2a9-d290-4cbf-9d8d-3fd432eaac70",
   "metadata": {},
   "source": [
    "## Objective Function defination"
   ]
  },
  {
   "cell_type": "code",
   "execution_count": 23,
   "id": "ffc597e8-4f0d-4f5b-a92e-c330a96a9178",
   "metadata": {},
   "outputs": [],
   "source": [
    "def map_index_to_value(index, allowed_values):\n",
    "    index = int(round(index))  # Ensure the index is an integer\n",
    "    index = max(0, min(index, len(allowed_values) - 1))  # Clip to valid range\n",
    "    return allowed_values[index]"
   ]
  },
  {
   "cell_type": "code",
   "execution_count": 4,
   "id": "11263faa-abe0-4095-b586-76598f2d1507",
   "metadata": {},
   "outputs": [],
   "source": [
    "def objective_function(params_flat, obs_rdii):\n",
    "    # Unpack parameters\n",
    "    R1, T1_idx, K1_idx, R2, T2_idx, K2_idx, R3, T3_idx, K3_idx = params_flat\n",
    "\n",
    "    # **Strict Non-Negative Constraint for R Values**\n",
    "    if R1 < 0 or R2 < 0 or R3 < 0:\n",
    "        print(\"Invalid R values detected (negative), skipping iteration.\")\n",
    "        return float('inf')\n",
    "\n",
    "    # Map indices to actual values\n",
    "    T1 = map_index_to_value(T1_idx, allowed_T1_values)\n",
    "    T2 = map_index_to_value(T2_idx, allowed_T2_values)\n",
    "    T3 = map_index_to_value(T3_idx, allowed_T3_values)\n",
    "\n",
    "    K1 = map_index_to_value(K1_idx, allowed_K1_values)\n",
    "    K2 = map_index_to_value(K2_idx, allowed_K2_values)\n",
    "    K3 = map_index_to_value(K3_idx, allowed_K3_values)\n",
    "\n",
    "    # Parameters for RDII calculation\n",
    "    params = [(R1, T1, K1), (R2, T2, K2), (R3, T3, K3)]\n",
    "\n",
    "    # Calculate simulated RDII\n",
    "    sim_rdii = RDII_calculation(params, delta_t, rainfall, area_acres)\n",
    "\n",
    "  \n",
    "    sim_rdii = np.array(sim_rdii)\n",
    "\n",
    "    # Check for invalid outputs\n",
    "    if sim_rdii.size == 0 or np.any(np.isnan(sim_rdii)) or np.any(np.isinf(sim_rdii)):\n",
    "        print(\"Invalid sim_rdii generated, returning large penalty.\")\n",
    "        return float('inf')\n",
    "\n",
    "    # Pad the shorter array with zeros to match the length of the longer one\n",
    "    max_length = max(len(obs_rdii), len(sim_rdii))\n",
    "    obs_rdii_padded = np.pad(obs_rdii, (0, max_length - len(obs_rdii)), mode='constant')\n",
    "    sim_rdii_padded = np.pad(sim_rdii, (0, max_length - len(sim_rdii)), mode='constant')\n",
    "\n",
    "\n",
    "    \n",
    "    # Calculate fitness value\n",
    "    fitness_value = fitness(\n",
    "        obs_rdii_padded,\n",
    "        sim_rdii_padded,\n",
    "        delta_t,\n",
    "        weight_rmse=0.25,\n",
    "        weight_r2=0.25,\n",
    "        weight_pbias=0.25,\n",
    "        weight_nse=0.25\n",
    "    )\n",
    "\n",
    "    penalty = 0\n",
    "    Ro = R_calc(rainfall, obs_rdii, delta_t, area_acres)\n",
    "    \n",
    "    # Enforce equality: R1 + R2 + R3 = Ro\n",
    "    r_sum = R1 + R2 + R3\n",
    "    penalty += 1e6 * (r_sum - Ro)**2  # quadratic penalty would be (r_sum - Ro)**2 if preferred\n",
    "    \n",
    "    # Temporal ordering constraints\n",
    "    if not (T1 < T2 < T3):\n",
    "        penalty += 1000\n",
    "    if not (T1 + T1 * K1 < T2 + T2 * K2 < T3 + T3 * K3 <= total_rdii_period):\n",
    "        penalty += 1000\n",
    "    # penalty = 0    \n",
    "\n",
    "\n",
    "    return fitness_value + penalty\n"
   ]
  },
  {
   "cell_type": "code",
   "execution_count": 27,
   "id": "e4113e58-3e73-4bcc-9e48-ec54976b05e5",
   "metadata": {},
   "outputs": [],
   "source": [
    "bounds = [\n",
    "    (0.0, 1.0),  # R1\n",
    "    (0.0, len(allowed_T1_values) - 1),  # T1_idx\n",
    "    (0.0, len(allowed_K1_values) - 1),  # K1_idx\n",
    "    (0.0, 1.0),  # R2\n",
    "    (0.0, len(allowed_T2_values) - 1),  # T2_idx\n",
    "    (0.0, len(allowed_K2_values) - 1),  # K2_idx\n",
    "    (0.0, 1.0),  # R3\n",
    "    (0.0, len(allowed_T3_values) - 1),  # T3_idx\n",
    "    (0.0, len(allowed_K3_values) - 1)   # K3_idx\n",
    "]\n"
   ]
  },
  {
   "cell_type": "markdown",
   "id": "ed38d115-069f-46df-84ed-cc17747ecc11",
   "metadata": {},
   "source": [
    "## Multiple Run"
   ]
  },
  {
   "cell_type": "code",
   "execution_count": null,
   "id": "a1c89d2f-5091-4b39-88d9-d0798f9edb6f",
   "metadata": {},
   "outputs": [],
   "source": [
    "# Define the number of runs\n",
    "num_runs = 20\n",
    "\n",
    "# Initialize a list to store the results\n",
    "all_results = []\n",
    "fitness_values = []\n",
    "\n",
    "# Run differential evolution multiple times\n",
    "for run in range(num_runs):\n",
    "    print(f\"Running DE: Run {run + 1}/{num_runs}\")\n",
    "    result = differential_evolution(\n",
    "        objective_function,\n",
    "        bounds,\n",
    "        args=(obs_rdii,),  # Pass obs_rdii as an argument\n",
    "        strategy='best1bin',\n",
    "        maxiter=300,\n",
    "        popsize=60,\n",
    "        tol=1e-6,\n",
    "        mutation=(0.5, 1.0),\n",
    "        recombination=0.70\n",
    "    )\n",
    "    \n",
    "    # Extract the best parameters\n",
    "    best_parameters = result.x\n",
    "    R1, T1_idx, K1_idx, R2, T2_idx, K2_idx, R3, T3_idx, K3_idx = best_parameters\n",
    "    \n",
    "    # Map indices back to actual values\n",
    "    T1 = map_index_to_value(T1_idx, allowed_T1_values)\n",
    "    T2 = map_index_to_value(T2_idx, allowed_T2_values)\n",
    "    T3 = map_index_to_value(T3_idx, allowed_T3_values)\n",
    "    \n",
    "    K1 = map_index_to_value(K1_idx, allowed_K1_values)\n",
    "    K2 = map_index_to_value(K2_idx, allowed_K2_values)\n",
    "    K3 = map_index_to_value(K3_idx, allowed_K3_values)\n",
    "    \n",
    "    # Final parameter set\n",
    "    best_params_actual = [(R1, T1, K1), (R2, T2, K2), (R3, T3, K3)]\n",
    "    \n",
    "    # Store the results\n",
    "    all_results.append(best_params_actual)\n",
    "    fitness_values.append(result.fun)\n",
    "\n",
    "print(\"Completed all DE runs.\")"
   ]
  },
  {
   "cell_type": "code",
   "execution_count": null,
   "id": "1d42f241-5dab-42f6-a707-58eb9e2b9210",
   "metadata": {},
   "outputs": [],
   "source": [
    "all_params = all_results \n",
    "# Combine results and fitness values into a DataFrame\n",
    "columns = ['R1', 'T1', 'K1', 'R2', 'T2', 'K2', 'R3', 'T3', 'K3', 'Fitness']\n",
    "results_df = pd.DataFrame([\n",
    "    [params[0][0], params[0][1], params[0][2],\n",
    "     params[1][0], params[1][1], params[1][2],\n",
    "     params[2][0], params[2][1], params[2][2], fitness]\n",
    "    for params, fitness in zip(all_results, fitness_values)\n",
    "], columns=columns)\n",
    "\n",
    "# Calculate statistics\n",
    "mean_values = results_df.mean()\n",
    "std_values = results_df.std()\n",
    "\n",
    "# Display results\n",
    "print(\"\\nResults from all runs:\")\n",
    "print(results_df)\n",
    "\n",
    "print(\"Mean values of parameters:\")\n",
    "print(mean_values)\n",
    "\n"
   ]
  },
  {
   "cell_type": "markdown",
   "id": "46357ba7-c9b4-4d0d-aae6-c1db978d6350",
   "metadata": {},
   "source": [
    "## Saving RTK parameters"
   ]
  },
  {
   "cell_type": "code",
   "execution_count": null,
   "id": "8f04986a-0ef2-4586-bf4c-b866266e5117",
   "metadata": {},
   "outputs": [],
   "source": [
    "# Define the Excel file name\n",
    "excel_filename = \"RTK_Parameters_all_algorithms_Ro_constraint_E9_CCW.xlsx\"\n",
    "sheet_name = \"DE\"\n",
    "\n",
    "# Check if \"Run\" column exists, and add it only if not present\n",
    "if \"Run\" not in results_df.columns:\n",
    "    results_df.insert(0, \"Run\", range(1, len(results_df) + 1))\n",
    "\n",
    "# Select the desired columns\n",
    "export_columns = [\"Run\", \"R1\", \"T1\", \"K1\", \"R2\", \"T2\", \"K2\", \"R3\", \"T3\", \"K3\"]\n",
    "\n",
    "# Check if the Excel file exists\n",
    "try:\n",
    "    with pd.ExcelWriter(excel_filename, engine=\"openpyxl\", mode=\"a\") as writer:\n",
    "        results_df[export_columns].to_excel(writer, sheet_name=sheet_name, index=False)\n",
    "except FileNotFoundError:\n",
    "    # If the file does not exist, create a new one\n",
    "    with pd.ExcelWriter(excel_filename, engine=\"openpyxl\", mode=\"w\") as writer:\n",
    "        results_df[export_columns].to_excel(writer, sheet_name=sheet_name, index=False)\n",
    "\n",
    "print(f\"Results successfully saved to {excel_filename} in sheet {sheet_name}.\")"
   ]
  },
  {
   "cell_type": "code",
   "execution_count": null,
   "id": "83028f8b-0313-4491-b6fc-5d12a15ac290",
   "metadata": {},
   "outputs": [],
   "source": [
    "plot=RDII_combined_plot(all_params, delta_t, rainfall, area_acres, obs_rdii)"
   ]
  },
  {
   "cell_type": "markdown",
   "id": "8da08888-15a1-4720-8df8-7df0838dd702",
   "metadata": {},
   "source": [
    "## Saving Metrices"
   ]
  },
  {
   "cell_type": "code",
   "execution_count": null,
   "id": "29598dcf-9337-48fe-a948-f0f95612042c",
   "metadata": {},
   "outputs": [],
   "source": [
    "criteria= calculate_criteria_multiple_runs(all_results, obs_rdii, delta_t, rainfall, area_acres)"
   ]
  },
  {
   "cell_type": "code",
   "execution_count": null,
   "id": "b8d79ca6-a586-449d-9a33-6c7a79744de5",
   "metadata": {},
   "outputs": [],
   "source": [
    "# Define the Excel file and sheet name\n",
    "excel_filename = \"Metrices_all_algorithms_Ro_E9_CCW.xlsx\"\n",
    "criteria_sheet_name = \"DE\"\n",
    "\n",
    "# Select only the first 20 rows\n",
    "criteria_df = criteria.iloc[:20].copy()\n",
    "\n",
    "# Ensure \"Run\" column is present in criteria_df\n",
    "if \"Run\" not in criteria_df.columns:\n",
    "    criteria_df.insert(0, \"Run\", range(1, len(criteria_df) + 1))\n",
    "\n",
    "# Add the \"Fitness\" column from results_df (first 20 rows)\n",
    "criteria_df[\"Fitness\"] = results_df.loc[:19, \"Fitness\"].values\n",
    "\n",
    "# Select the required columns\n",
    "export_columns_criteria = [\"Run\", \"RMSE\", \"R2\", \"PBIAS\", \"NSE\", \"Fitness\"]\n",
    "\n",
    "# Check if the Excel file exists and append or create a new file\n",
    "try:\n",
    "    with pd.ExcelWriter(excel_filename, engine=\"openpyxl\", mode=\"a\") as writer:\n",
    "        criteria_df[export_columns_criteria].to_excel(writer, sheet_name=criteria_sheet_name, index=False)\n",
    "except FileNotFoundError:\n",
    "    with pd.ExcelWriter(excel_filename, engine=\"openpyxl\", mode=\"w\") as writer:\n",
    "        criteria_df[export_columns_criteria].to_excel(writer, sheet_name=criteria_sheet_name, index=False)\n",
    "\n",
    "print(f\"Criteria successfully saved to {excel_filename} in sheet {criteria_sheet_name}.\")"
   ]
  }
 ],
 "metadata": {
  "kernelspec": {
   "display_name": "Python 3 (ipykernel)",
   "language": "python",
   "name": "python3"
  },
  "language_info": {
   "codemirror_mode": {
    "name": "ipython",
    "version": 3
   },
   "file_extension": ".py",
   "mimetype": "text/x-python",
   "name": "python",
   "nbconvert_exporter": "python",
   "pygments_lexer": "ipython3",
   "version": "3.12.4"
  }
 },
 "nbformat": 4,
 "nbformat_minor": 5
}
