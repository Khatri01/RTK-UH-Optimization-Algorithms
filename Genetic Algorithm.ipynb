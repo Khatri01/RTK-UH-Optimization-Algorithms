{
 "cells": [
  {
   "cell_type": "markdown",
   "id": "dad5ec3e-5cb3-4813-befb-30c75b38b354",
   "metadata": {},
   "source": [
    "# Required Libraries"
   ]
  },
  {
   "cell_type": "code",
   "execution_count": 4,
   "id": "85397b8b-4606-427e-9764-7de0b290591c",
   "metadata": {},
   "outputs": [],
   "source": [
    "import numpy as np\n",
    "import pandas as pd\n",
    "import matplotlib.pyplot as plt\n",
    "from deap import base, creator, tools, algorithms\n",
    "import random\n",
    "from openpyxl import load_workbook\n"
   ]
  },
  {
   "cell_type": "markdown",
   "id": "9454b0ba-ad75-4b50-99f0-2de74ec8f82b",
   "metadata": {},
   "source": [
    "# Required Functions "
   ]
  },
  {
   "cell_type": "code",
   "execution_count": 6,
   "id": "2c4328f9-dfa1-49a2-98e7-5c37ab8c486d",
   "metadata": {},
   "outputs": [],
   "source": [
    "%run Optimization_RTK_Functions.ipynb"
   ]
  },
  {
   "cell_type": "markdown",
   "id": "e43972e8-deae-434e-aa72-eb1b8bd32a42",
   "metadata": {},
   "source": [
    "# Input"
   ]
  },
  {
   "cell_type": "code",
   "execution_count": 9,
   "id": "b7928a22-edc2-4fa6-8e2e-d8dbedeb9c21",
   "metadata": {},
   "outputs": [],
   "source": [
    "file_path = './CCW_event_9.xlsx'                # Sets the file path for the Excel data file.\n",
    "data = pd.read_excel(file_path, skiprows=0)     # Reads the data from the Excel file into a DataFrame.\n",
    "\n",
    "rainfall = data.iloc[:,2].dropna().tolist()     # Gets data from the 3rd column (index 2) for rainfall, drops empty rows, and converts to a list.\n",
    "obs_rdii = data.iloc[:,1].tolist()              # Gets data from the 2nd column (index 1) for observed RDII flow and converts to a list.\n",
    "\n",
    "delta_t = 600                                   # Sets the time step duration to 600 seconds (which is a 10-minute interval).\n",
    "area_acres = 491.153                            # Defines the catchment area in acres.\n",
    "\n",
    "total_rdii_period = (len(obs_rdii) - len(rainfall)) * delta_t # Calculates the decay period after rainfall stops."
   ]
  },
  {
   "cell_type": "markdown",
   "id": "9d18781e-720f-4075-abd4-c15241149c48",
   "metadata": {},
   "source": [
    "### T and K Range "
   ]
  },
  {
   "cell_type": "code",
   "execution_count": 13,
   "id": "70e65b81-387f-45b3-9c2f-2c06d1e356f6",
   "metadata": {},
   "outputs": [],
   "source": [
    "# Allowed values for T (in seconds, 10-minute steps)\n",
    "allowed_T1_values = [x * 60 for x in range(10, 121, 10)]  # 10 min to 2 hrs\n",
    "allowed_T2_values = [x * 60 for x in range(20, 241, 10)]  # 20 min to 4 hrs\n",
    "allowed_T3_values = [x * 60 for x in range(30, 421, 10)]  # 30 min to 7 hrs\n",
    "\n",
    "# Allowed values for K (0.001 steps)\n",
    "allowed_K1_values = [round(x, 3) for x in np.arange(1, 2.01, 0.001)]  # 1to 2\n",
    "allowed_K2_values = [round(x, 3) for x in np.arange(2, 3.01, 0.001)]  # 2 to 3\n",
    "allowed_K3_values = [round(x, 3) for x in np.arange(3.0, 7.01, 0.001)]  # 3 to 7\n"
   ]
  },
  {
   "cell_type": "markdown",
   "id": "389be6e5-ebf1-4802-b1b6-24af1af2202b",
   "metadata": {},
   "source": [
    "# Genetic Algorithm Optimization "
   ]
  },
  {
   "cell_type": "markdown",
   "id": "0cd13c84-9451-4370-a342-0ea95fed5de2",
   "metadata": {},
   "source": [
    "## Objective Function defination "
   ]
  },
  {
   "cell_type": "code",
   "execution_count": 17,
   "id": "fb6b6ebf-ea91-4d01-94d0-31dec36e776b",
   "metadata": {},
   "outputs": [],
   "source": [
    "def objective_function(params):\n",
    "    \"\"\"\n",
    "    Compute RMSE + penalty for given parameters.\n",
    "    \"\"\"\n",
    "    # Convert flat array back to parameter tuples\n",
    "    R1, T1_index, K1_index, R2, T2_index, K2_index, R3, T3_index, K3_index = params\n",
    "\n",
    "       # **Strict Non-Negative Constraint for R Values**\n",
    "    if R1 < 0 or R2 < 0 or R3 < 0:\n",
    "        print(\"Invalid R values detected (negative), skipping iteration.\")\n",
    "        return (float('inf'),) \n",
    "\n",
    "    # Map indices to actual T and K values\n",
    "    T1 = allowed_T1_values[int(T1_index)]\n",
    "    T2 = allowed_T2_values[int(T2_index)]\n",
    "    T3 = allowed_T3_values[int(T3_index)]\n",
    "\n",
    "    K1 = allowed_K1_values[int(K1_index)]\n",
    "    K2 = allowed_K2_values[int(K2_index)]\n",
    "    K3 = allowed_K3_values[int(K3_index)]\n",
    "\n",
    "    # Package parameters\n",
    "    param_tuples = [(R1, T1, K1), (R2, T2, K2), (R3, T3, K3)]\n",
    "\n",
    "    # Calculate simulated RDII\n",
    "    sim_rdii = RDII_calculation(param_tuples, delta_t, rainfall, area_acres)\n",
    "\n",
    "    sim_rdii = np.array(sim_rdii)\n",
    "\n",
    "    # Check for invalid outputs\n",
    "    if sim_rdii.size == 0 or np.any(np.isnan(sim_rdii)) or np.any(np.isinf(sim_rdii)):\n",
    "        print(\"Invalid sim_rdii generated, returning large penalty.\")\n",
    "        return float('inf')\n",
    "\n",
    "    # Pad the shorter array with zeros to match the length of the longer one\n",
    "    max_length = max(len(obs_rdii), len(sim_rdii))\n",
    "    obs_rdii_padded = np.pad(obs_rdii, (0, max_length - len(obs_rdii)), mode='constant')\n",
    "    sim_rdii_padded = np.pad(sim_rdii, (0, max_length - len(sim_rdii)), mode='constant')\n",
    "\n",
    "    # # Calculate fitness (RMSE)\n",
    "    # rmse = fitness(obs_rdii, sim_rdii, delta_t)\n",
    "    \n",
    "    # Calculate fitness value\n",
    "    fitness_value = fitness(\n",
    "        obs_rdii_padded,\n",
    "        sim_rdii_padded,\n",
    "        delta_t,\n",
    "        weight_rmse=0.25,\n",
    "        weight_r2=0.25,\n",
    "        weight_pbias=0.25,\n",
    "        weight_nse=0.25\n",
    "    )\n",
    "    \n",
    "    # Calculate penalties\n",
    "    penalty = 0\n",
    "    Ro = R_calc(rainfall, obs_rdii, delta_t, area_acres)\n",
    "    \n",
    "    # Enforce equality: R1 + R2 + R3 = Ro\n",
    "    r_sum = R1 + R2 + R3\n",
    "    penalty += 1e6 * (r_sum - Ro)**2  # quadratic penalty would be (r_sum - Ro)**2 if preferred\n",
    "    \n",
    "    # Temporal ordering constraints\n",
    "    if not (T1 < T2 < T3):\n",
    "        penalty += 1000\n",
    "    if not (T1 + T1 * K1 < T2 + T2 * K2 < T3 + T3 * K3 <= total_rdii_period):\n",
    "        penalty += 1000\n",
    "\n",
    "\n",
    "\n",
    "    return (fitness_value + penalty,)  # Ensure the result is a tuple for GA algorithms"
   ]
  },
  {
   "cell_type": "markdown",
   "id": "1ab1cf0d-1e49-42b9-93d4-35b41f10b2b4",
   "metadata": {},
   "source": [
    "## Multiple Run GA"
   ]
  },
  {
   "cell_type": "code",
   "execution_count": 19,
   "id": "6647361f-efb2-4e95-a2aa-8c5af9025f0f",
   "metadata": {},
   "outputs": [],
   "source": [
    "import random\n",
    "from deap import base, creator, tools, algorithms\n",
    "\n",
    "# Define the problem and fitness function (minimization)\n",
    "if \"FitnessMin\" not in creator.__dict__:\n",
    "    creator.create(\"FitnessMin\", base.Fitness, weights=(-1.0,))\n",
    "\n",
    "if \"Individual\" not in creator.__dict__:\n",
    "    creator.create(\"Individual\", list, fitness=creator.FitnessMin)\n",
    "\n",
    "toolbox = base.Toolbox()\n",
    "\n",
    "# --------- 1️⃣ Define genes (parameters) ensuring R values are non-negative ---------\n",
    "def random_r():\n",
    "    return random.uniform(0, 1)  # Forces R values to be between [0,1]\n",
    "\n",
    "def random_index_t1():\n",
    "    return random.randint(0, len(allowed_T1_values) - 1)\n",
    "\n",
    "def random_index_k1():\n",
    "    return random.randint(0, len(allowed_K1_values) - 1)\n",
    "\n",
    "# --------- 2️⃣ Register functions in DEAP toolbox ---------\n",
    "toolbox.register(\"R\", random_r)\n",
    "toolbox.register(\"T1_index\", random_index_t1)\n",
    "toolbox.register(\"T2_index\", random_index_t1)\n",
    "toolbox.register(\"T3_index\", random_index_t1)\n",
    "toolbox.register(\"K1_index\", random_index_k1)\n",
    "toolbox.register(\"K2_index\", random_index_k1)\n",
    "toolbox.register(\"K3_index\", random_index_k1)\n",
    "\n",
    "# --------- 3️⃣ Define Individual and Population ---------\n",
    "toolbox.register(\"individual\", tools.initCycle, creator.Individual,\n",
    "                 (toolbox.R, toolbox.T1_index, toolbox.K1_index,\n",
    "                  toolbox.R, toolbox.T2_index, toolbox.K2_index,\n",
    "                  toolbox.R, toolbox.T3_index, toolbox.K3_index),\n",
    "                 n=1)\n",
    "\n",
    "toolbox.register(\"population\", tools.initRepeat, list, toolbox.individual)\n",
    "\n",
    "# --------- 4️⃣ Register evaluation, mutation, crossover, and selection ---------\n",
    "toolbox.register(\"evaluate\", objective_function)  # Ensure it returns a tuple!\n",
    "toolbox.register(\"mate\", tools.cxTwoPoint)  # Two-point crossover\n",
    "\n",
    "# --------- 5️⃣ Modify Mutation to Ensure \\( R \\geq 0 \\) ---------\n",
    "def mutate(individual):\n",
    "    \"\"\"\n",
    "    Custom mutation function that ensures R values remain non-negative.\n",
    "    \"\"\"\n",
    "    for i in range(0, len(individual), 3):  # R values are at positions 0, 3, 6\n",
    "        if random.random() < 0.2:  # Mutation probability\n",
    "            individual[i] = random.uniform(0, 1)  # Ensure R stays in [0,1]\n",
    "\n",
    "    # Mutate indices (T, K)\n",
    "    for i in range(1, len(individual)):  # Skip R values\n",
    "        if random.random() < 0.2:\n",
    "            if i in [1, 4, 7]:  # T indices\n",
    "                individual[i] = random.randint(0, len(allowed_T1_values) - 1)\n",
    "            elif i in [2, 5, 8]:  # K indices\n",
    "                individual[i] = random.randint(0, len(allowed_K1_values) - 1)\n",
    "\n",
    "    return individual,\n",
    "\n",
    "toolbox.register(\"mutate\", mutate)  # Use the custom mutation\n",
    "\n",
    "toolbox.register(\"select\", tools.selTournament, tournsize=3)"
   ]
  },
  {
   "cell_type": "code",
   "execution_count": null,
   "id": "f17fb703-c2c4-4465-bd01-d5b7c5962f26",
   "metadata": {},
   "outputs": [],
   "source": [
    "# Number of runs\n",
    "n_runs = 20  # Set the number of runs\n",
    "\n",
    "# Lists to store results\n",
    "all_params = []  # To store parameter values\n",
    "all_fitness_scores = []  # To store fitness scores\n",
    "\n",
    "for run in range(n_runs):\n",
    "    print(f\"Running Genetic Algorithm: Run {run + 1}/{n_runs}\")\n",
    "    \n",
    "    # Initialize population\n",
    "    population = toolbox.population(n=100)  # Population size\n",
    "\n",
    "    # Run the GA\n",
    "    result, log = algorithms.eaSimple(\n",
    "        population, toolbox,\n",
    "        cxpb=0.5,  # Crossover probability\n",
    "        mutpb=0.20,  # Mutation probability\n",
    "        ngen=100,  # Number of generations\n",
    "        verbose=False  # Set to False to avoid excessive output\n",
    "    )\n",
    "\n",
    "    # Extract the best solution\n",
    "    best_individual = tools.selBest(population, k=1)[0]\n",
    "    best_params = best_individual\n",
    "\n",
    "    # Extract parameter indices\n",
    "    R1, T1_index, K1_index, R2, T2_index, K2_index, R3, T3_index, K3_index = best_params\n",
    "\n",
    "    # Map indices to actual values\n",
    "    T1 = allowed_T1_values[int(T1_index)]\n",
    "    T2 = allowed_T2_values[int(T2_index)]\n",
    "    T3 = allowed_T3_values[int(T3_index)]\n",
    "\n",
    "    K1 = allowed_K1_values[int(K1_index)]\n",
    "    K2 = allowed_K2_values[int(K2_index)]\n",
    "    K3 = allowed_K3_values[int(K3_index)]\n",
    "\n",
    "    # Extract the best fitness function value\n",
    "    best_fitness_value = best_individual.fitness.values[0]\n",
    "\n",
    "    # Final best parameter set\n",
    "    best_params_actual = [(R1, T1, K1), (R2, T2, K2), (R3, T3, K3)]\n",
    "    \n",
    "    # Store results\n",
    "    all_params.append(best_params_actual)\n",
    "    all_fitness_scores.append(best_fitness_value)\n",
    "\n",
    "print(\"Completed all runs.\")\n",
    "\n",
    "\n"
   ]
  },
  {
   "cell_type": "code",
   "execution_count": null,
   "id": "fb20452e-7aa4-413f-8d43-5c03d141af3e",
   "metadata": {},
   "outputs": [],
   "source": [
    "# Create DataFrame with run, parameters, and fitness score\n",
    "columns = ['Run', 'R1', 'T1', 'K1', 'R2', 'T2', 'K2', 'R3', 'T3', 'K3', 'Fitness']\n",
    "results_data = []\n",
    "\n",
    "for run, (params, fitness) in enumerate(zip(all_params, all_fitness_scores), start=1):\n",
    "    results_data.append([\n",
    "        run,\n",
    "        params[0][0], params[0][1], params[0][2],  # R1, T1, K1\n",
    "        params[1][0], params[1][1], params[1][2],  # R2, T2, K2\n",
    "        params[2][0], params[2][1], params[2][2],  # R3, T3, K3\n",
    "        fitness  # Fitness value\n",
    "    ])\n",
    "\n",
    "results_df = pd.DataFrame(results_data, columns=columns)\n",
    "\n",
    "# Display results\n",
    "print(\"\\nResults from all runs:\")\n",
    "print(results_df)\n",
    "\n",
    "# Save results to a CSV file if needed\n",
    "#results_df.to_excel(\"genetic_algorithm_results_event5.xlsx\", index=False)"
   ]
  },
  {
   "cell_type": "code",
   "execution_count": null,
   "id": "72ca906f-9f28-47df-991c-a04617c3dd3f",
   "metadata": {},
   "outputs": [],
   "source": [
    "mean_values = results_df.mean()\n",
    "std_values = results_df.std()\n",
    "print(\"Mean values of parameters:\")\n",
    "print(mean_values)\n",
    "print(\"\\nStandard deviation of parameters:\")\n",
    "print(std_values)"
   ]
  },
  {
   "cell_type": "markdown",
   "id": "db4c4fa7-347f-4a6b-a08f-bc03285627e4",
   "metadata": {},
   "source": [
    "## Saving RTK parameters"
   ]
  },
  {
   "cell_type": "code",
   "execution_count": null,
   "id": "68012bc1-f2f9-4d5b-94f9-8b6d6f7ea785",
   "metadata": {},
   "outputs": [],
   "source": [
    "# Define the Excel file name\n",
    "excel_filename = \"RTK_Parameters_all_algorithms_Ro_constraint_E9_CCW.xlsx\"\n",
    "sheet_name = \"GA\"\n",
    "\n",
    "# Check if \"Run\" column exists, and add it only if not present\n",
    "if \"Run\" not in results_df.columns:\n",
    "    results_df.insert(0, \"Run\", range(1, len(results_df) + 1))\n",
    "\n",
    "# Select the desired columns\n",
    "export_columns = [\"Run\", \"R1\", \"T1\", \"K1\", \"R2\", \"T2\", \"K2\", \"R3\", \"T3\", \"K3\"]\n",
    "\n",
    "# Check if the Excel file exists\n",
    "try:\n",
    "    with pd.ExcelWriter(excel_filename, engine=\"openpyxl\", mode=\"a\") as writer:\n",
    "        results_df[export_columns].to_excel(writer, sheet_name=sheet_name, index=False)\n",
    "except FileNotFoundError:\n",
    "    # If the file does not exist, create a new one\n",
    "    with pd.ExcelWriter(excel_filename, engine=\"openpyxl\", mode=\"w\") as writer:\n",
    "        results_df[export_columns].to_excel(writer, sheet_name=sheet_name, index=False)\n",
    "\n",
    "print(f\"Results successfully saved to {excel_filename} in sheet {sheet_name}.\")"
   ]
  },
  {
   "cell_type": "code",
   "execution_count": null,
   "id": "ea182f77-2aa3-4729-9961-4991eb710518",
   "metadata": {},
   "outputs": [],
   "source": [
    "plot=RDII_combined_plot(all_params, delta_t, rainfall, area_acres, obs_rdii)"
   ]
  },
  {
   "cell_type": "markdown",
   "id": "95ed3bf1-7070-4e37-aaa3-a2bc35759d8f",
   "metadata": {},
   "source": [
    "## Saving Metrics"
   ]
  },
  {
   "cell_type": "code",
   "execution_count": null,
   "id": "d87afd81-8fcf-4a52-8f44-856ed69cfc67",
   "metadata": {},
   "outputs": [],
   "source": [
    "criteria=calculate_criteria_multiple_runs(all_params, obs_rdii, delta_t, rainfall, area_acres)"
   ]
  },
  {
   "cell_type": "code",
   "execution_count": null,
   "id": "9ed65a0e-3a44-432c-ac07-cf6f8082508c",
   "metadata": {},
   "outputs": [],
   "source": [
    "# Define the Excel file and sheet name\n",
    "excel_filename = \"Metrices_all_algorithms_Ro_E9_CCW.xlsx\"\n",
    "criteria_sheet_name = \"GA\"\n",
    "\n",
    "# Select only the first 20 rows\n",
    "criteria_df = criteria.iloc[:20].copy()\n",
    "\n",
    "# Ensure \"Run\" column is present in criteria_df\n",
    "if \"Run\" not in criteria_df.columns:\n",
    "    criteria_df.insert(0, \"Run\", range(1, len(criteria_df) + 1))\n",
    "\n",
    "# Add the \"Fitness\" column from results_df (first 20 rows)\n",
    "criteria_df[\"Fitness\"] = results_df.loc[:19, \"Fitness\"].values\n",
    "\n",
    "# Select the required columns\n",
    "export_columns_criteria = [\"Run\", \"RMSE\", \"R2\", \"PBIAS\", \"NSE\", \"Fitness\"]\n",
    "\n",
    "# Check if the Excel file exists and append or create a new file\n",
    "try:\n",
    "    with pd.ExcelWriter(excel_filename, engine=\"openpyxl\", mode=\"a\") as writer:\n",
    "        criteria_df[export_columns_criteria].to_excel(writer, sheet_name=criteria_sheet_name, index=False)\n",
    "except FileNotFoundError:\n",
    "    with pd.ExcelWriter(excel_filename, engine=\"openpyxl\", mode=\"w\") as writer:\n",
    "        criteria_df[export_columns_criteria].to_excel(writer, sheet_name=criteria_sheet_name, index=False)\n",
    "\n",
    "print(f\"Criteria successfully saved to {excel_filename} in sheet {criteria_sheet_name}.\")"
   ]
  }
 ],
 "metadata": {
  "kernelspec": {
   "display_name": "Python 3 (ipykernel)",
   "language": "python",
   "name": "python3"
  },
  "language_info": {
   "codemirror_mode": {
    "name": "ipython",
    "version": 3
   },
   "file_extension": ".py",
   "mimetype": "text/x-python",
   "name": "python",
   "nbconvert_exporter": "python",
   "pygments_lexer": "ipython3",
   "version": "3.12.4"
  }
 },
 "nbformat": 4,
 "nbformat_minor": 5
}
