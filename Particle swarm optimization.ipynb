{
 "cells": [
  {
   "cell_type": "markdown",
   "id": "dad5ec3e-5cb3-4813-befb-30c75b38b354",
   "metadata": {},
   "source": [
    "# Required Libraries"
   ]
  },
  {
   "cell_type": "code",
   "execution_count": 4,
   "id": "85397b8b-4606-427e-9764-7de0b290591c",
   "metadata": {},
   "outputs": [],
   "source": [
    "import numpy as np\n",
    "import pandas as pd\n",
    "import matplotlib.pyplot as plt\n",
    "import cma\n",
    "from scipy.optimize import differential_evolution\n",
    "from deap import base, creator, tools, algorithms\n",
    "import random\n",
    "from scipy.optimize import dual_annealing\n",
    "import pyswarms as ps\n",
    "from openpyxl import load_workbook\n"
   ]
  },
  {
   "cell_type": "markdown",
   "id": "9454b0ba-ad75-4b50-99f0-2de74ec8f82b",
   "metadata": {},
   "source": [
    "# Required Functions "
   ]
  },
  {
   "cell_type": "code",
   "execution_count": 6,
   "id": "2c4328f9-dfa1-49a2-98e7-5c37ab8c486d",
   "metadata": {},
   "outputs": [],
   "source": [
    "%run Optimization_RTK_Functions.ipynb"
   ]
  },
  {
   "cell_type": "markdown",
   "id": "e43972e8-deae-434e-aa72-eb1b8bd32a42",
   "metadata": {},
   "source": [
    "# Input"
   ]
  },
  {
   "cell_type": "code",
   "execution_count": null,
   "id": "90985133-4c2e-46f9-a85b-21f79a6194f2",
   "metadata": {},
   "outputs": [],
   "source": [
    "file_path = './CCW_event_9.xlsx'                # Sets the file path for the Excel data file.\n",
    "data = pd.read_excel(file_path, skiprows=0)     # Reads the data from the Excel file into a DataFrame.\n",
    "\n",
    "rainfall = data.iloc[:,2].dropna().tolist()     # Gets data from the 3rd column (index 2) for rainfall, drops empty rows, and converts to a list.\n",
    "obs_rdii = data.iloc[:,1].tolist()              # Gets data from the 2nd column (index 1) for observed RDII flow and converts to a list.\n",
    "\n",
    "delta_t = 600                                   # Sets the time step duration to 600 seconds (which is a 10-minute interval).\n",
    "area_acres = 491.153                            # Defines the catchment area in acres.\n",
    "\n",
    "total_rdii_period = (len(obs_rdii) - len(rainfall)) * delta_t # Calculates the decay period after rainfall stops."
   ]
  },
  {
   "cell_type": "markdown",
   "id": "9d18781e-720f-4075-abd4-c15241149c48",
   "metadata": {},
   "source": [
    "### T and K Range "
   ]
  },
  {
   "cell_type": "code",
   "execution_count": 13,
   "id": "70e65b81-387f-45b3-9c2f-2c06d1e356f6",
   "metadata": {},
   "outputs": [],
   "source": [
    "# Allowed values for T (in seconds, 10-minute steps)\n",
    "allowed_T1_values = [x * 60 for x in range(10, 121, 10)]  # 10 min to 2 hrs\n",
    "allowed_T2_values = [x * 60 for x in range(20, 241, 10)]  # 20 min to 4 hrs\n",
    "allowed_T3_values = [x * 60 for x in range(30, 421, 10)]  # 30 min to 7 hrs\n",
    "\n",
    "# Allowed values for K (0.001 steps)\n",
    "allowed_K1_values = [round(x, 3) for x in np.arange(1, 2.01, 0.001)]  # 1to 2\n",
    "allowed_K2_values = [round(x, 3) for x in np.arange(2, 3.01, 0.001)]  # 2 to 3\n",
    "allowed_K3_values = [round(x, 3) for x in np.arange(3.0, 7.01, 0.001)]  # 3 to 7\n"
   ]
  },
  {
   "cell_type": "markdown",
   "id": "79bf45b8-cce0-42c0-acda-239e50a65c4a",
   "metadata": {},
   "source": [
    "# Particle Swarm Optimization"
   ]
  },
  {
   "cell_type": "markdown",
   "id": "ec8b5038-9e99-4c50-9392-fbb502697c55",
   "metadata": {},
   "source": [
    "## Objective Function defination"
   ]
  },
  {
   "cell_type": "code",
   "execution_count": null,
   "id": "3e68b416-3cdc-4779-8c3f-3b57aca21d39",
   "metadata": {},
   "outputs": [],
   "source": [
    "def map_index_to_value(index, allowed_values):\n",
    "    \"\"\"Map a continuous index to the closest value in the allowed set.\"\"\"\n",
    "    index = int(round(index))  # Ensure it's an integer\n",
    "    index = max(0, min(index, len(allowed_values) - 1))  # Clip to valid range\n",
    "    return allowed_values[index]\n",
    "\n",
    "def objective_function(params_flat):\n",
    "    \"\"\"\n",
    "    Objective function for Particle Swarm Optimization (PSO).\n",
    "    Processes an array of particle positions and computes the fitness for each particle.\n",
    "\n",
    "    Args:\n",
    "        params_flat (ndarray): Array of particle positions with shape (n_particles, dimensions).\n",
    "\n",
    "    Returns:\n",
    "        ndarray: Fitness values for all particles.\n",
    "    \"\"\"\n",
    "    fitness_values = []  # List to store fitness for each particle\n",
    "\n",
    "    for particle in params_flat:\n",
    "        # Unpack parameters for the current particle\n",
    "        R1, T1_idx, K1_idx, R2, T2_idx, K2_idx, R3, T3_idx, K3_idx = particle\n",
    "\n",
    "               # **Strict Non-Negative Constraint for R Values**\n",
    "        if R1 < 0 or R2 < 0 or R3 < 0:\n",
    "            print(\"Invalid R values detected (negative), skipping iteration.\")\n",
    "            return float('inf')\n",
    "\n",
    "        # Map indices to actual discrete values\n",
    "        T1 = map_index_to_value(T1_idx, allowed_T1_values)\n",
    "        T2 = map_index_to_value(T2_idx, allowed_T2_values)\n",
    "        T3 = map_index_to_value(T3_idx, allowed_T3_values)\n",
    "\n",
    "        K1 = map_index_to_value(K1_idx, allowed_K1_values)\n",
    "        K2 = map_index_to_value(K2_idx, allowed_K2_values)\n",
    "        K3 = map_index_to_value(K3_idx, allowed_K3_values)\n",
    "\n",
    "        # Combine parameters into a structured format\n",
    "        params = [(R1, T1, K1), (R2, T2, K2), (R3, T3, K3)]\n",
    "\n",
    "        # Simulate RDII using the current parameters\n",
    "        sim_rdii = RDII_calculation(params, delta_t, rainfall, area_acres)\n",
    "\n",
    "        # Handle invalid or mismatched lengths in simulated RDII\n",
    "        # if not sim_rdii or len(sim_rdii) == 0 or np.any(np.isnan(sim_rdii)) or np.any(np.isinf(sim_rdii)):\n",
    "        #     fitness_values.append(float('inf'))  # Assign a high penalty for invalid simulations\n",
    "        #     continue\n",
    "        # if len(sim_rdii) != len(obs_rdii):\n",
    "        #     sim_rdii = sim_rdii[:len(obs_rdii)]\n",
    "\n",
    "        # # Compute RMSE\n",
    "        # rmse = fitness(obs_rdii, sim_rdii, delta_t)\n",
    "        sim_rdii = np.array(sim_rdii)\n",
    "\n",
    "        # Check for invalid outputs\n",
    "        if sim_rdii.size == 0 or np.any(np.isnan(sim_rdii)) or np.any(np.isinf(sim_rdii)):\n",
    "            print(\"Invalid sim_rdii generated, returning large penalty.\")\n",
    "            return float('inf')\n",
    "\n",
    "        # Pad the shorter array with zeros to match the length of the longer one\n",
    "        max_length = max(len(obs_rdii), len(sim_rdii))\n",
    "        obs_rdii_padded = np.pad(obs_rdii, (0, max_length - len(obs_rdii)), mode='constant')\n",
    "        sim_rdii_padded = np.pad(sim_rdii, (0, max_length - len(sim_rdii)), mode='constant')\n",
    "\n",
    "\n",
    "    \n",
    "        # Calculate fitness value\n",
    "        fitness_value = fitness(\n",
    "            obs_rdii_padded,\n",
    "            sim_rdii_padded,\n",
    "            delta_t,\n",
    "            weight_rmse=0.25,\n",
    "            weight_r2=0.25,\n",
    "            weight_pbias=0.25,\n",
    "            weight_nse=0.25\n",
    "        )\n",
    "       \n",
    "        #  # Calculate fitness_value\n",
    "        # fitness_value = fitness(obs_rdii, sim_rdii, delta_t, weight_rmse= 0.25, weight_r2= 0.25, weight_pbias=0.25, weight_nse=0.25)\n",
    "\n",
    "            \n",
    "        penalty = 0\n",
    "        Ro = R_calc(rainfall, obs_rdii, delta_t, area_acres)\n",
    "        \n",
    "        # Enforce equality: R1 + R2 + R3 = Ro\n",
    "        r_sum = R1 + R2 + R3\n",
    "        penalty += 1e6 * (r_sum - Ro)**2  # quadratic penalty would be (r_sum - Ro)**2 if preferred\n",
    "        \n",
    "        # Temporal ordering constraints\n",
    "        if not (T1 < T2 < T3):\n",
    "            penalty += 1000\n",
    "        if not (T1 + T1 * K1 < T2 + T2 * K2 < T3 + T3 * K3 <= total_rdii_period):\n",
    "            penalty += 1000\n",
    "      \n",
    "\n",
    "\n",
    "     \n",
    "\n",
    "        # Final fitness value (RMSE + penalties)\n",
    "        total_fitness = fitness_value + penalty\n",
    "        fitness_values.append(total_fitness)\n",
    "\n",
    "    return np.array(fitness_values)  # Return fitness for all particles\n"
   ]
  },
  {
   "cell_type": "code",
   "execution_count": null,
   "id": "2a7d7c97-740c-46ea-a02d-e3fca7ae8a4a",
   "metadata": {},
   "outputs": [],
   "source": [
    "# Define bounds for all parameters\n",
    "bounds = [\n",
    "    (0, 1),  # R1\n",
    "    (0, len(allowed_T1_values) - 1),  # T1 index\n",
    "    (0, len(allowed_K1_values) - 1),  # K1 index\n",
    "    (0, 1),  # R2\n",
    "    (0, len(allowed_T2_values) - 1),  # T2 index\n",
    "    (0, len(allowed_K2_values) - 1),  # K2 index\n",
    "    (0, 1),  # R3\n",
    "    (0, len(allowed_T3_values) - 1),  # T3 index\n",
    "    (0, len(allowed_K3_values) - 1),  # K3 index\n",
    "]"
   ]
  },
  {
   "cell_type": "markdown",
   "id": "7eba44ad-e081-48c9-8caa-e899f21e0e2e",
   "metadata": {},
   "source": [
    "## Multiple Run PSO"
   ]
  },
  {
   "cell_type": "code",
   "execution_count": null,
   "id": "526e2022-68ae-459e-b25a-e20cbc761543",
   "metadata": {},
   "outputs": [],
   "source": [
    "# Number of runs\n",
    "n_runs = 20\n",
    "\n",
    "# Number of particles and iterations for PSO\n",
    "num_particles = 100\n",
    "num_iterations = 300\n",
    "\n",
    "# Lists to store results\n",
    "all_params = []\n",
    "all_costs = []\n",
    "\n",
    "for run in range(n_runs):\n",
    "    print(f\"Running PSO: Run {run + 1}/{n_runs}\")\n",
    "    \n",
    "    # Initialize the PSO optimizer\n",
    "    optimizer = ps.single.GlobalBestPSO(\n",
    "        n_particles=num_particles,\n",
    "        dimensions=len(bounds),\n",
    "        options={\"c1\": 1.5, \"c2\": 1.5, \"w\": 0.7},\n",
    "        bounds=(np.array([b[0] for b in bounds]), np.array([b[1] for b in bounds]))\n",
    "    )\n",
    "    \n",
    "    # Perform optimization\n",
    "    best_cost, best_pos = optimizer.optimize(objective_function, iters=num_iterations, verbose=False)\n",
    "    \n",
    "    # Extract parameter indices and map to actual T and K values\n",
    "    R1, T1_index, K1_index, R2, T2_index, K2_index, R3, T3_index, K3_index = best_pos\n",
    "\n",
    "    T1 = allowed_T1_values[int(T1_index)]\n",
    "    T2 = allowed_T2_values[int(T2_index)]\n",
    "    T3 = allowed_T3_values[int(T3_index)]\n",
    "\n",
    "    K1 = allowed_K1_values[int(K1_index)]\n",
    "    K2 = allowed_K2_values[int(K2_index)]\n",
    "    K3 = allowed_K3_values[int(K3_index)]\n",
    "\n",
    "    # Final best parameter set for this run\n",
    "    best_params_actual = [(R1, T1, K1), (R2, T2, K2), (R3, T3, K3)]\n",
    "    \n",
    "    # Store results\n",
    "    all_params.append(best_params_actual)\n",
    "    all_costs.append(best_cost)\n",
    "\n",
    "print(\"Completed all PSO runs.\")\n"
   ]
  },
  {
   "cell_type": "code",
   "execution_count": null,
   "id": "598df0b6-c85a-490a-b8de-7adea23d9751",
   "metadata": {},
   "outputs": [],
   "source": [
    "# Create a DataFrame with results\n",
    "columns = ['Run', 'R1', 'T1', 'K1', 'R2', 'T2', 'K2', 'R3', 'T3', 'K3', 'Cost']\n",
    "results_data = []\n",
    "\n",
    "for run, (params, cost) in enumerate(zip(all_params, all_costs), start=1):\n",
    "    results_data.append([\n",
    "        run,\n",
    "        params[0][0], params[0][1], params[0][2],  # R1, T1, K1\n",
    "        params[1][0], params[1][1], params[1][2],  # R2, T2, K2\n",
    "        params[2][0], params[2][1], params[2][2],  # R3, T3, K3\n",
    "        cost  # Best cost for the run\n",
    "    ])\n",
    "\n",
    "results_df = pd.DataFrame(results_data, columns=columns)\n",
    "\n",
    "# Display results\n",
    "print(\"\\nResults from all runs:\")\n",
    "print(results_df)\n",
    "\n",
    "# Save results to a CSV file if needed\n",
    "#results_df.to_excel(\"pso_results_event5.xlsx\", index=False)\n",
    "\n",
    "# Calculate and display mean and standard deviation for parameters and cost\n",
    "mean_values = results_df.mean()\n",
    "std_values = results_df.std()\n",
    "\n",
    "print(\"\\nMean values of parameters and cost across runs:\")\n",
    "print(mean_values)\n",
    "\n",
    "print(\"\\nStandard deviation of parameters and cost across runs:\")\n",
    "print(std_values)\n"
   ]
  },
  {
   "cell_type": "markdown",
   "id": "60619726-92f8-45b4-9e27-01cbfd389a4a",
   "metadata": {},
   "source": [
    "## Saving RTK Parameters"
   ]
  },
  {
   "cell_type": "code",
   "execution_count": null,
   "id": "5a1beecf-5f36-4b89-b229-ca3a00b7a83d",
   "metadata": {},
   "outputs": [],
   "source": [
    "# Define the Excel file name\n",
    "excel_filename = \"RTK_Parameters_all_algorithms_Ro_constraint_E9_CCW.xlsx\"\n",
    "sheet_name = \"PSO\"\n",
    "\n",
    "# Check if \"Run\" column exists, and add it only if not present\n",
    "if \"Run\" not in results_df.columns:\n",
    "    results_df.insert(0, \"Run\", range(1, len(results_df) + 1))\n",
    "\n",
    "# Select the desired columns\n",
    "export_columns = [\"Run\", \"R1\", \"T1\", \"K1\", \"R2\", \"T2\", \"K2\", \"R3\", \"T3\", \"K3\"]\n",
    "\n",
    "# Check if the Excel file exists\n",
    "try:\n",
    "    with pd.ExcelWriter(excel_filename, engine=\"openpyxl\", mode=\"a\") as writer:\n",
    "        results_df[export_columns].to_excel(writer, sheet_name=sheet_name, index=False)\n",
    "except FileNotFoundError:\n",
    "    # If the file does not exist, create a new one\n",
    "    with pd.ExcelWriter(excel_filename, engine=\"openpyxl\", mode=\"w\") as writer:\n",
    "        results_df[export_columns].to_excel(writer, sheet_name=sheet_name, index=False)\n",
    "\n",
    "print(f\"Results successfully saved to {excel_filename} in sheet {sheet_name}.\")"
   ]
  },
  {
   "cell_type": "code",
   "execution_count": null,
   "id": "7e1d9632-3b1d-4941-968d-04f9bf8b16f3",
   "metadata": {},
   "outputs": [],
   "source": [
    "plot=RDII_combined_plot(all_params, delta_t, rainfall, area_acres, obs_rdii)"
   ]
  },
  {
   "cell_type": "markdown",
   "id": "ebbc6b52-8dbb-4ef9-b75a-5216e5a432c4",
   "metadata": {},
   "source": [
    "## Saving Metrics"
   ]
  },
  {
   "cell_type": "code",
   "execution_count": null,
   "id": "4f06c10e-87f1-47e5-bebc-95eb1fa4bac4",
   "metadata": {},
   "outputs": [],
   "source": [
    "criteria= calculate_criteria_multiple_runs(all_params, obs_rdii, delta_t, rainfall, area_acres)"
   ]
  },
  {
   "cell_type": "code",
   "execution_count": null,
   "id": "0a64acfa-a836-491b-8ebe-fc040a4056f4",
   "metadata": {},
   "outputs": [],
   "source": [
    "# Define the Excel file and sheet name\n",
    "excel_filename = \"Metrices_all_algorithms_Ro_E9_CCW.xlsx\"\n",
    "criteria_sheet_name = \"PSO\"\n",
    "\n",
    "# Select only the first 20 rows\n",
    "criteria_df = criteria.iloc[:20].copy()\n",
    "\n",
    "# Ensure \"Run\" column is present in criteria_df\n",
    "if \"Run\" not in criteria_df.columns:\n",
    "    criteria_df.insert(0, \"Run\", range(1, len(criteria_df) + 1))\n",
    "\n",
    "# Add the \"Fitness\" column from results_df (first 20 rows)\n",
    "criteria_df[\"Fitness\"] = results_df.loc[:19, \"Cost\"].values\n",
    "\n",
    "# Select the required columns\n",
    "export_columns_criteria = [\"Run\", \"RMSE\", \"R2\", \"PBIAS\", \"NSE\", \"Fitness\"]\n",
    "\n",
    "# Check if the Excel file exists and append or create a new file\n",
    "try:\n",
    "    with pd.ExcelWriter(excel_filename, engine=\"openpyxl\", mode=\"a\") as writer:\n",
    "        criteria_df[export_columns_criteria].to_excel(writer, sheet_name=criteria_sheet_name, index=False)\n",
    "except FileNotFoundError:\n",
    "    with pd.ExcelWriter(excel_filename, engine=\"openpyxl\", mode=\"w\") as writer:\n",
    "        criteria_df[export_columns_criteria].to_excel(writer, sheet_name=criteria_sheet_name, index=False)\n",
    "\n",
    "print(f\"Criteria successfully saved to {excel_filename} in sheet {criteria_sheet_name}.\")"
   ]
  },
  {
   "cell_type": "code",
   "execution_count": null,
   "id": "0fe229af-1796-4ae0-9374-6723225fb584",
   "metadata": {},
   "outputs": [],
   "source": []
  }
 ],
 "metadata": {
  "kernelspec": {
   "display_name": "Python 3 (ipykernel)",
   "language": "python",
   "name": "python3"
  },
  "language_info": {
   "codemirror_mode": {
    "name": "ipython",
    "version": 3
   },
   "file_extension": ".py",
   "mimetype": "text/x-python",
   "name": "python",
   "nbconvert_exporter": "python",
   "pygments_lexer": "ipython3",
   "version": "3.12.4"
  }
 },
 "nbformat": 4,
 "nbformat_minor": 5
}
